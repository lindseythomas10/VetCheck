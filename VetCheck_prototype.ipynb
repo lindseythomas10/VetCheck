{
 "cells": [
  {
   "cell_type": "markdown",
   "id": "99c5b217",
   "metadata": {},
   "source": [
    "# VetCheck Prototype Notebook\n",
    "\n",
    "This notebook contains the early logic for the VetCheck app, including functions to manage pet profiles, health tracking, and reminders.\n",
    "\n",
    "## Planned Functions:\n",
    "- `create_pet_profile()`\n",
    "- `add_appointment()`\n",
    "- `log_symptom()`\n",
    "- `generate_reminder()`"
   ]
  },
  {
   "cell_type": "code",
   "execution_count": null,
   "id": "d5a2d878",
   "metadata": {},
   "outputs": [],
   "source": [
    "# Sample working function to create a pet profile\n",
    "\n",
    "def create_pet_profile(name, species, birthdate, weight, sex):\n",
    "    profile = {\n",
    "        \"name\": name,\n",
    "        \"species\": species.lower(),\n",
    "        \"birthdate\": birthdate,\n",
    "        \"weight_kg\": weight,\n",
    "        \"sex\": sex.upper()\n",
    "    }\n",
    "    return profile\n",
    "\n",
    "# Test\n",
    "pet1 = create_pet_profile(\"Luna\", \"Dog\", \"2020-06-01\", 18.5, \"F\")\n",
    "print(pet1)"
   ]
  }
 ],
 "metadata": {},
 "nbformat": 4,
 "nbformat_minor": 5
}