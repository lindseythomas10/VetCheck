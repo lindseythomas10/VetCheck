{
 "cells": [
  {
   "cell_type": "markdown",
   "id": "229adfe8",
   "metadata": {},
   "source": [
    "# 🐾 VetCheck Prototype Notebook\n",
    "\n",
    "This notebook contains the early logic for the VetCheck app, a smart pet health tracking system. The app allows users to manage their pet's health records, appointments, medications, and symptoms.\n",
    "\n",
    "## Planned Functions / Modules:\n",
    "- `create_pet_profile()`: Stores basic pet info\n",
    "- `log_symptom()`: Records symptoms with timestamps\n",
    "- `schedule_reminder()`: Sets up reminders for meds or checkups\n",
    "- `generate_health_summary()`: Creates a summary of the pet's health data\n",
    "- `upload_file()`: Uploads images or documents (e.g., prescriptions)\n",
    "- `share_with_vet()`: Prepares and shares health info with a vet"
   ]
  },
  {
   "cell_type": "code",
   "execution_count": null,
   "id": "c2425ed9",
   "metadata": {},
   "outputs": [],
   "source": [
    "# ✅ Working Function: create_pet_profile\n",
    "\n",
    "def create_pet_profile(name, species, birthdate, weight, sex):\n",
    "    profile = {\n",
    "        \"name\": name,\n",
    "        \"species\": species.lower(),\n",
    "        \"birthdate\": birthdate,\n",
    "        \"weight_kg\": weight,\n",
    "        \"sex\": sex.upper()\n",
    "    }\n",
    "    return profile\n",
    "\n",
    "# 🔍 Test\n",
    "pet1 = create_pet_profile(\"Luna\", \"Dog\", \"2020-06-01\", 18.5, \"F\")\n",
    "print(pet1)"
   ]
  }
 ],
 "metadata": {},
 "nbformat": 4,
 "nbformat_minor": 5
}